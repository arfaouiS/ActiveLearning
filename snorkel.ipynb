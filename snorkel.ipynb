{
 "cells": [
  {
   "cell_type": "code",
   "execution_count": 1,
   "metadata": {},
   "outputs": [],
   "source": [
    "import numpy as np\n",
    "from sklearn.model_selection import train_test_split\n",
    "from snorkel.labeling import labeling_function\n",
    "from snorkel.labeling import PandasLFApplier"
   ]
  },
  {
   "cell_type": "code",
   "execution_count": 2,
   "metadata": {},
   "outputs": [],
   "source": [
    "import dataset\n",
    "data = dataset.loadAddressPair()"
   ]
  },
  {
   "cell_type": "code",
   "execution_count": 40,
   "metadata": {},
   "outputs": [],
   "source": [
    "MATCH = 2\n",
    "PARTIALMATCH = 1\n",
    "NOMATCH = 0\n",
    "NONE = -1\n",
    "\n",
    "@labeling_function()\n",
    "def citySimilarity(x):\n",
    "    if(x['cos6'] < 0.8):\n",
    "        return NOMATCH\n",
    "    else:\n",
    "        return NONE\n",
    "    \n",
    "\n",
    "@labeling_function()\n",
    "def match(x):\n",
    "    similarities = ['cos0', 'cos1', 'cos2', 'cos3', 'cos4', 'cos5', 'cos6', 'cos9', 'cos10', 'cos11'\n",
    "                         ,'cos12', 'cos13','cos14','cos15','cos16','cos17','cos18','cos19','cos20']\n",
    "    nbPositiveSimilarity = 0\n",
    "    nbNegativeSimilarity = 0\n",
    "    for similarity in similarities:\n",
    "        if(x[similarity] < 0.8 and x[similarity] > 0 ):\n",
    "            return NONE\n",
    "    return MATCH\n",
    "\n",
    "\n",
    "@labeling_function()\n",
    "def partialOrNoMatch(x):\n",
    "    #Que la ville = NoMatch \n",
    "    #Au moins une similarité : partiel\n",
    "    citySimilarity = 'cos6'\n",
    "    otherSimilarities = ['cos0', 'cos1', 'cos2', 'cos3', 'cos4', 'cos5', 'cos9', 'cos10', 'cos11'\n",
    "                         ,'cos12', 'cos13','cos14','cos15','cos16','cos17','cos18','cos19','cos20']\n",
    "    nbPositiveSimilarity = 0\n",
    "    nbNegativeSimilarity = 0\n",
    "    for similarity in otherSimilarities:\n",
    "        if(x[similarity] >= 0.8 or x[similarity]==0):\n",
    "            nbPositiveSimilarity += 1\n",
    "        else:\n",
    "            nbNegativeSimilarity += 1\n",
    "    if(x[citySimilarity] >= 0.8 and nbPositiveSimilarity > 0 and nbNegativeSimilarity > 0):\n",
    "        return PARTIALMATCH\n",
    "    elif(x[citySimilarity] >= 0.8 and nbPositiveSimilarity == 0): \n",
    "        return NOMATCH\n",
    "    else:\n",
    "        return NONE\n",
    "    \n",
    "    \n",
    "\n",
    "@labeling_function()\n",
    "def ruleClassif(x):\n",
    "    if(x['cos6'] < 0.6):\n",
    "        return NOMATCH\n",
    "    citySimilarity = 'cos6'\n",
    "    otherSimilarities = ['cos0', 'cos1', 'cos2', 'cos3', 'cos4', 'cos5', 'cos9', 'cos10', 'cos11'\n",
    "                         ,'cos12', 'cos13','cos14','cos15','cos16','cos17','cos18','cos19','cos20']\n",
    "    nbPositiveSimilarity = 0\n",
    "    nbNegativeSimilarity = 0\n",
    "    for similarity in otherSimilarities:\n",
    "        if(x[similarity] >= 0.6):\n",
    "            nbPositiveSimilarity += 1\n",
    "        else:\n",
    "            nbNegativeSimilarity += 1\n",
    "    if(x['cos6'] >= 0.6 and nbPositiveSimilarity > 0 and nbNegativeSimilarity > 0):\n",
    "        return PARTIALMATCH\n",
    "    elif(x['cos6'] >= 0.6 and nbPositiveSimilarity == 0): \n",
    "        return NOMATCH\n",
    "    else:\n",
    "        return MATCH\n",
    "    \n",
    "@labeling_function()\n",
    "def bis(x):  \n",
    "    return MATCH"
   ]
  },
  {
   "cell_type": "code",
   "execution_count": 41,
   "metadata": {},
   "outputs": [],
   "source": [
    "X = data.iloc[:,:19]\n",
    "y = data['Label'].values\n",
    "X_train, X_test, y_train, y_test = train_test_split(X, y, test_size=0.3, random_state=42)"
   ]
  },
  {
   "cell_type": "code",
   "execution_count": 42,
   "metadata": {},
   "outputs": [
    {
     "name": "stderr",
     "output_type": "stream",
     "text": [
      "C:\\Users\\Arfaoui Selma\\anaconda3\\lib\\site-packages\\tqdm\\std.py:697: FutureWarning: The Panel class is removed from pandas. Accessing it from the top-level namespace will also be removed in the next version\n",
      "  from pandas import Panel\n",
      "100%|████████████████████████████████████████████████████████████████████████████| 2100/2100 [00:01<00:00, 1722.56it/s]\n",
      "100%|██████████████████████████████████████████████████████████████████████████████| 900/900 [00:00<00:00, 2149.84it/s]\n"
     ]
    }
   ],
   "source": [
    "lfs = [citySimilarity, match, partialOrNoMatch]\n",
    "#lfs = [ruleClassif]\n",
    "applier = PandasLFApplier(lfs=lfs)\n",
    "L_train = applier.apply(df=X_train)\n",
    "L_test = applier.apply(df=X_test)"
   ]
  },
  {
   "cell_type": "code",
   "execution_count": 43,
   "metadata": {},
   "outputs": [
    {
     "data": {
      "text/plain": [
       "array([[ 0, -1, -1],\n",
       "       [-1,  2, -1],\n",
       "       [ 0, -1, -1],\n",
       "       ...,\n",
       "       [ 0, -1, -1],\n",
       "       [ 0, -1, -1],\n",
       "       [ 0, -1, -1]])"
      ]
     },
     "execution_count": 43,
     "metadata": {},
     "output_type": "execute_result"
    }
   ],
   "source": [
    "L_train"
   ]
  },
  {
   "cell_type": "code",
   "execution_count": 44,
   "metadata": {},
   "outputs": [
    {
     "data": {
      "text/html": [
       "<div>\n",
       "<style scoped>\n",
       "    .dataframe tbody tr th:only-of-type {\n",
       "        vertical-align: middle;\n",
       "    }\n",
       "\n",
       "    .dataframe tbody tr th {\n",
       "        vertical-align: top;\n",
       "    }\n",
       "\n",
       "    .dataframe thead th {\n",
       "        text-align: right;\n",
       "    }\n",
       "</style>\n",
       "<table border=\"1\" class=\"dataframe\">\n",
       "  <thead>\n",
       "    <tr style=\"text-align: right;\">\n",
       "      <th></th>\n",
       "      <th>j</th>\n",
       "      <th>Polarity</th>\n",
       "      <th>Coverage</th>\n",
       "      <th>Overlaps</th>\n",
       "      <th>Conflicts</th>\n",
       "    </tr>\n",
       "  </thead>\n",
       "  <tbody>\n",
       "    <tr>\n",
       "      <th>citySimilarity</th>\n",
       "      <td>0</td>\n",
       "      <td>[0]</td>\n",
       "      <td>0.270476</td>\n",
       "      <td>0.000476</td>\n",
       "      <td>0.000476</td>\n",
       "    </tr>\n",
       "    <tr>\n",
       "      <th>match</th>\n",
       "      <td>1</td>\n",
       "      <td>[2]</td>\n",
       "      <td>0.378095</td>\n",
       "      <td>0.001429</td>\n",
       "      <td>0.001429</td>\n",
       "    </tr>\n",
       "    <tr>\n",
       "      <th>partialOrNoMatch</th>\n",
       "      <td>2</td>\n",
       "      <td>[1]</td>\n",
       "      <td>0.352857</td>\n",
       "      <td>0.000952</td>\n",
       "      <td>0.000952</td>\n",
       "    </tr>\n",
       "  </tbody>\n",
       "</table>\n",
       "</div>"
      ],
      "text/plain": [
       "                  j Polarity  Coverage  Overlaps  Conflicts\n",
       "citySimilarity    0      [0]  0.270476  0.000476   0.000476\n",
       "match             1      [2]  0.378095  0.001429   0.001429\n",
       "partialOrNoMatch  2      [1]  0.352857  0.000952   0.000952"
      ]
     },
     "execution_count": 44,
     "metadata": {},
     "output_type": "execute_result"
    }
   ],
   "source": [
    "from snorkel.labeling import LFAnalysis\n",
    "\n",
    "LFAnalysis(L=L_train, lfs=lfs).lf_summary()"
   ]
  },
  {
   "cell_type": "code",
   "execution_count": 45,
   "metadata": {},
   "outputs": [
    {
     "name": "stdout",
     "output_type": "stream",
     "text": [
      "[[ 0 -1 -1]\n",
      " [-1  2 -1]\n",
      " [ 0 -1 -1]\n",
      " ...\n",
      " [ 0 -1 -1]\n",
      " [ 0 -1 -1]\n",
      " [ 0 -1 -1]]\n",
      "-1\n"
     ]
    }
   ],
   "source": [
    "print(L_train)\n",
    "print(L_train[0, 2])"
   ]
  },
  {
   "cell_type": "code",
   "execution_count": 46,
   "metadata": {},
   "outputs": [
    {
     "name": "stderr",
     "output_type": "stream",
     "text": [
      "INFO:root:Computing O...\n",
      "INFO:root:Estimating \\mu...\n",
      "  0%|                                                                                       | 0/500 [00:00<?, ?epoch/s]INFO:root:[0 epochs]: TRAIN:[loss=0.089]\n",
      " 12%|█████████▎                                                                    | 60/500 [00:00<00:15, 27.97epoch/s]INFO:root:[100 epochs]: TRAIN:[loss=0.008]\n",
      " 39%|██████████████████████████████▏                                              | 196/500 [00:00<00:04, 72.55epoch/s]INFO:root:[200 epochs]: TRAIN:[loss=0.001]\n",
      " 60%|█████████████████████████████████████████████▌                              | 300/500 [00:00<00:01, 128.62epoch/s]INFO:root:[300 epochs]: TRAIN:[loss=0.000]\n",
      " 75%|█████████████████████████████████████████████████████████                   | 375/500 [00:00<00:00, 170.97epoch/s]INFO:root:[400 epochs]: TRAIN:[loss=0.000]\n",
      "100%|████████████████████████████████████████████████████████████████████████████| 500/500 [00:01<00:00, 481.48epoch/s]\n",
      "INFO:root:Finished Training\n"
     ]
    }
   ],
   "source": [
    "from snorkel.labeling.model import LabelModel\n",
    "\n",
    "#label_model = LabelModel(cardinality=3, verbose=True)\n",
    "label_model = LabelModel(cardinality=3, verbose=True)\n",
    "label_model.fit(L_train=L_train, n_epochs=500, log_freq=100, seed=123)\n"
   ]
  },
  {
   "cell_type": "code",
   "execution_count": 47,
   "metadata": {},
   "outputs": [],
   "source": [
    "from snorkel.labeling import filter_unlabeled_dataframe\n",
    "\n",
    "df_train_filtered, probs_train_filtered = filter_unlabeled_dataframe(\n",
    "    X=X_train, y=L_train.copy(), L=L_train\n",
    ")\n"
   ]
  },
  {
   "cell_type": "code",
   "execution_count": 48,
   "metadata": {},
   "outputs": [],
   "source": [
    "from snorkel.utils import probs_to_preds\n",
    "\n",
    "preds_train_filtered = probs_to_preds(probs=probs_train_filtered)\n"
   ]
  },
  {
   "cell_type": "code",
   "execution_count": 49,
   "metadata": {},
   "outputs": [
    {
     "data": {
      "text/plain": [
       "LogisticRegression(C=1000.0, solver='liblinear')"
      ]
     },
     "execution_count": 49,
     "metadata": {},
     "output_type": "execute_result"
    }
   ],
   "source": [
    "from sklearn.linear_model import LogisticRegression\n",
    "\n",
    "sklearn_model = LogisticRegression(C=1e3, solver=\"liblinear\")\n",
    "sklearn_model.fit(X=X_train, y=preds_train_filtered)\n"
   ]
  },
  {
   "cell_type": "code",
   "execution_count": 50,
   "metadata": {},
   "outputs": [
    {
     "name": "stdout",
     "output_type": "stream",
     "text": [
      "Test Accuracy: 40.0%\n"
     ]
    }
   ],
   "source": [
    "print(f\"Test Accuracy: {sklearn_model.score(X=X_test, y=y_test) * 100:.1f}%\")"
   ]
  }
 ],
 "metadata": {
  "kernelspec": {
   "display_name": "Python 3",
   "language": "python",
   "name": "python3"
  },
  "language_info": {
   "codemirror_mode": {
    "name": "ipython",
    "version": 3
   },
   "file_extension": ".py",
   "mimetype": "text/x-python",
   "name": "python",
   "nbconvert_exporter": "python",
   "pygments_lexer": "ipython3",
   "version": "3.8.5"
  }
 },
 "nbformat": 4,
 "nbformat_minor": 4
}
